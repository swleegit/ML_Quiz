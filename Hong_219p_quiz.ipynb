{
  "nbformat": 4,
  "nbformat_minor": 0,
  "metadata": {
    "colab": {
      "provenance": [],
      "collapsed_sections": [],
      "mount_file_id": "1P7gjDNQV1fo-V5YR9agynIlNDA7Tx0Rr",
      "authorship_tag": "ABX9TyNP2kYNHUpphpOHVPlnt2zm",
      "include_colab_link": true
    },
    "kernelspec": {
      "name": "python3",
      "display_name": "Python 3"
    },
    "language_info": {
      "name": "python"
    }
  },
  "cells": [
    {
      "cell_type": "markdown",
      "metadata": {
        "id": "view-in-github",
        "colab_type": "text"
      },
      "source": [
        "<a href=\"https://colab.research.google.com/github/swleegit/ML_Quiz/blob/main/Hong_219p_quiz.ipynb\" target=\"_parent\"><img src=\"https://colab.research.google.com/assets/colab-badge.svg\" alt=\"Open In Colab\"/></a>"
      ]
    },
    {
      "cell_type": "markdown",
      "source": [
        "# 1.\n",
        "[엑셀데이터](https://drive.google.com/file/d/1aSzAYCKGuW5w_oPr2puW1ATqTPf4PV-u/view?usp=sharing)  \n",
        "\n",
        "(위의 엑셀파일은 열 이름을 삭제한 파일이다.)\n",
        "\n",
        "1. 엑셀파일을 데이터프레임으로 불러오기(단, 첫 행이 열이름이 되지 않도록 하세요.)\n",
        "\n",
        "2. 열이름을 다음과 같이 추가하세요.  \n",
        "'Species', 'Weight','Length1','Length2','Length3','Height','Width'\n",
        "\n",
        "3. Species중 가장 많은 종을 찾고 해당 종만 있도록 데이터프레임을 수정하세요.\n",
        "\n",
        "4. Weight열을 target으로 'Length1','Length2','Length3','Height','Width'을 input으로 배열(ndarray)로 전환하세요.\n",
        "\n",
        "5. 훈련과 테스트 데이터를 PolynomialFeatures를 이용하여 3제곱으로 특성을 늘려보세요.\n",
        "\n",
        "6. 5.에서 몇개의 특성이 나왔나요? 어떤 조합으로 그런 특성이 나왔는지 생각해보세요\n",
        "\n",
        "7. 늘어난 특성의 훈련세트와 테스트세트를 각각 정규화(표준점수로 반환)해보세요.\n",
        "(mean, std를 이용해서 직접 해보세요)\n",
        "\n",
        "8. 7.의 과정을 StandardScaler를 이용하여 해보세요. 그리고 7.의 결과와 비교해보세요.\n",
        "\n",
        "\n",
        "\n"
      ],
      "metadata": {
        "id": "bI9coz5VnLXv"
      }
    }
  ]
}