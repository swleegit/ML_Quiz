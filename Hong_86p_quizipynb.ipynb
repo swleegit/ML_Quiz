{
  "nbformat": 4,
  "nbformat_minor": 0,
  "metadata": {
    "colab": {
      "provenance": [],
      "collapsed_sections": [],
      "authorship_tag": "ABX9TyOlc6FZKLRTJnWQLQQaHRWk",
      "include_colab_link": true
    },
    "kernelspec": {
      "name": "python3",
      "display_name": "Python 3"
    },
    "language_info": {
      "name": "python"
    }
  },
  "cells": [
    {
      "cell_type": "markdown",
      "metadata": {
        "id": "view-in-github",
        "colab_type": "text"
      },
      "source": [
        "<a href=\"https://colab.research.google.com/github/swleegit/ML_Quiz/blob/main/Hong_86p_quizipynb.ipynb\" target=\"_parent\"><img src=\"https://colab.research.google.com/assets/colab-badge.svg\" alt=\"Open In Colab\"/></a>"
      ]
    },
    {
      "cell_type": "markdown",
      "source": [
        "# 1. \n",
        "- [[target_1, length_1, weight_1], [target_2, length_2, weight_2], ...] 꼴로 만들어 보세요.(힌트: for , append 사용)\n"
      ],
      "metadata": {
        "id": "MT1WjXNhTMjc"
      }
    },
    {
      "cell_type": "code",
      "source": [
        "bream_length = [25.4, 26.3, 26.5, 29.0, 29.0, 29.7, 29.7, 30.0, 30.0, 30.7, 31.0, 31.0, \n",
        "                31.5, 32.0, 32.0, 32.0, 33.0, 33.0, 33.5, 33.5, 34.0, 34.0, 34.5, 35.0, \n",
        "                35.0, 35.0, 35.0, 36.0, 36.0, 37.0, 38.5, 38.5, 39.5, 41.0, 41.0]\n",
        "bream_weight = [242.0, 290.0, 340.0, 363.0, 430.0, 450.0, 500.0, 390.0, 450.0, 500.0, 475.0, 500.0, \n",
        "                500.0, 340.0, 600.0, 600.0, 700.0, 700.0, 610.0, 650.0, 575.0, 685.0, 620.0, 680.0, \n",
        "                700.0, 725.0, 720.0, 714.0, 850.0, 1000.0, 920.0, 955.0, 925.0, 975.0, 950.0]\n",
        "smelt_length = [9.8, 10.5, 10.6, 11.0, 11.2, 11.3, 11.8, 11.8, 12.0, 12.2, 12.4, 13.0, 14.3, 15.0]\n",
        "smelt_weight = [6.7, 7.5, 7.0, 9.7, 9.8, 8.7, 10.0, 9.9, 9.8, 12.2, 13.4, 12.2, 19.7, 19.9]\n",
        "\n",
        "fish_target = [1] * 35 + [0] * 14\n"
      ],
      "metadata": {
        "id": "dUzc-JwNMVzn"
      },
      "execution_count": null,
      "outputs": []
    },
    {
      "cell_type": "markdown",
      "source": [
        "# 2.\n",
        "- 1.에서 만든 리스트에서 target에 해당하는 값만 모아 하나의 리스트로 만들어 보세요 (힌트 :for, append 사용)"
      ],
      "metadata": {
        "id": "aHNjdNbHT0Fp"
      }
    },
    {
      "cell_type": "markdown",
      "source": [
        "# 3.\n",
        "- [[target_1, length_1, weight_1], [target_2, length_2, weight_2], ...]에서 타깃값과 데이터 값을 따로 분리해보세요.(데이터프레임 메소드 사용 권장, 데이터 프레임 모르면 패스하셔도 좋습니다!)"
      ],
      "metadata": {
        "id": "nopg4vk0UJF1"
      }
    },
    {
      "cell_type": "markdown",
      "source": [
        "# 4.\n",
        "[생선 데이터 셋(원본 : 캐글)](https://www.kaggle.com/aungpyaeap/fish-market)  \n",
        "\n",
        "해당 링크에서 데이터를 읽어와 bream와smelt를 분류하는 모델과 perch와 roach를 분류하는 모델을 만들고 평가해보세요. 그리고 각 모델의 정확도 차이에 대해 생각해보세요.\n",
        "(특성은 length1과 length2를 선택하세요)\n",
        "\n",
        "[전반적인 과정]\n",
        "\n",
        "- 코랩에서 데이터 읽어오기(csv->dataframe형태 변환)\n",
        "\n",
        "- 원하는 형태로 데이터 프레임 가공하기\n",
        "  - 특정 조건을 만족하는 행 선택\n",
        "  - 특정 열 선택\n",
        "  - dataframe을 ndarray형식으로 변환\n",
        "\n",
        "- fit, score\n",
        "\n",
        "**데이터 프레임 관련 조작은 위의 키워드 중심으로 구글링하면 방법 나옵니다!**\n",
        "\n",
        "**약간 범위가 벗어나기 때문에 모르겠으면 그냥 오셔도 좋습니다**\n",
        "\n",
        "\n"
      ],
      "metadata": {
        "id": "PPjE1WOIUxUk"
      }
    },
    {
      "cell_type": "markdown",
      "source": [
        "[정답](https://colab.research.google.com/drive/1krtBa-ZJhNbKjWnBnylBZlPwbQzpH9Wl?usp=sharing)"
      ],
      "metadata": {
        "id": "D0yuvLwDXlRe"
      }
    }
  ]
}